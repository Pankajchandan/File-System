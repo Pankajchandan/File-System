{
 "cells": [
  {
   "cell_type": "code",
   "execution_count": 5,
   "metadata": {
    "collapsed": true
   },
   "outputs": [],
   "source": [
    "import time\n",
    "import os"
   ]
  },
  {
   "cell_type": "code",
   "execution_count": 8,
   "metadata": {
    "collapsed": true
   },
   "outputs": [],
   "source": [
    "##method to return current date and time\n",
    "def CurrentDateTime():\n",
    "    return time.strftime(\"%Y-%m-%d.%H:%M:%S\")"
   ]
  },
  {
   "cell_type": "code",
   "execution_count": 20,
   "metadata": {
    "collapsed": true
   },
   "outputs": [],
   "source": [
    "##daemon function\n",
    "def readfile():\n",
    "    command_file = open(\"Command.txt\", \"r\")\n",
    "    line = command_file.readline().split()\n",
    "    option = line[0]\n",
    "    filename = line[1]\n",
    "    \n",
    "    if option is 1:\n",
    "        tf = line[2]\n",
    "        timestamp = line[3]\n",
    "        \n",
    "    "
   ]
  },
  {
   "cell_type": "code",
   "execution_count": 35,
   "metadata": {
    "collapsed": true
   },
   "outputs": [],
   "source": [
    "##main method for user interaction\n",
    "def main():\n",
    "    print \"What do you want to do? : \"\n",
    "    choice = input (\"1: Create a file\\t2: Delete a file\\t3: Write to(append) a file\\n\")\n",
    "    filename = input(\"Enter the name of the file which you want to operate on:\\n\")\n",
    "    command_file = open(\"Command.txt\", \"w+\")\n",
    "    \n",
    "    if choice is 1:\n",
    "        write = input(\"Do you want to create and write to file or create a blank file?\\nEnter 1 for writing a file, 0 otherwise: \")\n",
    "        if write is 1:\n",
    "            text = input(\"Enter the line you want to write to the file:\\n\")\n",
    "            command_file.write(\"1 \"+CurrentDateTime()+\" true\\n\")\n",
    "            command_file.write(text+\"\\n\")\n",
    "        else:\n",
    "            command_file.write(\"1 \"+CurrentDateTime()+\" false\\n\")\n",
    "            \n",
    "    elif choice is 2:\n",
    "        command_file.write(\"2\\n\"+filename+\"\\n\")\n",
    "    \n",
    "    elif choice is 3:\n",
    "        text = input(\"Enter the line you want to append to the file: \\n\")\n",
    "        "
   ]
  },
  {
   "cell_type": "code",
   "execution_count": 36,
   "metadata": {},
   "outputs": [
    {
     "name": "stdout",
     "output_type": "stream",
     "text": [
      "What do you want to do? : \n",
      "1: Create a file\t2: Delete a file\t3: Write to(append) a file\n",
      "2\n",
      "Enter the name of the file which you want to operate on:\n",
      "file\n"
     ]
    }
   ],
   "source": [
    "if __name__ == \"__main__\":\n",
    "    main()"
   ]
  },
  {
   "cell_type": "code",
   "execution_count": null,
   "metadata": {
    "collapsed": true
   },
   "outputs": [],
   "source": []
  }
 ],
 "metadata": {
  "kernelspec": {
   "display_name": "Python 2",
   "language": "python",
   "name": "python2"
  },
  "language_info": {
   "codemirror_mode": {
    "name": "ipython",
    "version": 2
   },
   "file_extension": ".py",
   "mimetype": "text/x-python",
   "name": "python",
   "nbconvert_exporter": "python",
   "pygments_lexer": "ipython2",
   "version": "2.7.12"
  }
 },
 "nbformat": 4,
 "nbformat_minor": 2
}
