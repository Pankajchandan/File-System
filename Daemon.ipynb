{
 "cells": [
  {
   "cell_type": "code",
   "execution_count": 32,
   "metadata": {
    "collapsed": true
   },
   "outputs": [],
   "source": [
    "import time\n",
    "import os"
   ]
  },
  {
   "cell_type": "code",
   "execution_count": 33,
   "metadata": {
    "collapsed": true
   },
   "outputs": [],
   "source": [
    "##method to return current date and time\n",
    "def CurrentDateTime():\n",
    "    return time.strftime(\"%Y-%m-%d.%H:%M:%S\")"
   ]
  },
  {
   "cell_type": "code",
   "execution_count": 50,
   "metadata": {
    "collapsed": true
   },
   "outputs": [],
   "source": [
    "##daemon function\n",
    "def readfile():\n",
    "    command_file = open(\"Command.txt\", \"r\")\n",
    "    line = command_file.readline().split()\n",
    "    option = line[0]\n",
    "    file1 = line[1]\n",
    "    if option is \"1\":\n",
    "        tf = line[2]\n",
    "        timestamp = line[3]\n",
    "        filename = open(file1,\"w\")\n",
    "        if tf is \"true\":\n",
    "            text = command_file.read()\n",
    "            filename.write(text)\n",
    "            print \"File Created and Written into!!\"\n",
    "            filename.close()\n",
    "        else:\n",
    "            filename.close()\n",
    "    \n",
    "    elif option is \"2\":\n",
    "        os.remove(file1)\n",
    "        \n",
    "    elif option is \"3\":\n",
    "        filename = open(file1,\"a+\")\n",
    "        text = command_file.read()\n",
    "        filename.write(text)\n",
    "        print \"file modified!!\"\n",
    "    \n",
    "    elif option is \"4\":\n",
    "        filename = open(file1,\"r\")\n",
    "        print filename.read()\n",
    "    else:\n",
    "        print \"What the hell happened!!\"  "
   ]
  },
  {
   "cell_type": "code",
   "execution_count": 51,
   "metadata": {},
   "outputs": [],
   "source": [
    "##main method for user interaction\n",
    "def main():\n",
    "    print \"What do you want to do? : \"\n",
    "    choice = input (\"1: Create a file\\t2: Delete a file\\t3: Write to(append) a file\\t4: View contents of file\\n\")\n",
    "    command_file = open(\"Command.txt\", \"w+\")\n",
    "    \n",
    "    if choice is 1:\n",
    "        filename = raw_input(\"Enter the name of the file you want to create:\\n\")\n",
    "        write = input(\"Enter 1 for creating and writing to the file, 0 for just creating the file: \")\n",
    "        if write is 1:\n",
    "            command_file.write(\"1 \"+filename+\" true \"+CurrentDateTime()+\"\\n\")\n",
    "            print \"Enter what you want to write to the file and enter nothing to write:\\n\"\n",
    "            lines = []\n",
    "            while True:\n",
    "                line = raw_input()\n",
    "                if line:\n",
    "                    lines.append(line)\n",
    "                else:\n",
    "                    break\n",
    "            text = '\\n'.join(lines)\n",
    "            command_file.write(text+\"\\n\")\n",
    "        else:\n",
    "            command_file.write(\"1 \"+filename+\" false \"+CurrentDateTime()+\"\\n\")\n",
    "            \n",
    "    elif choice is 2:\n",
    "        filename = raw_input(\"Enter the name of the file you want to delete:\\n\")\n",
    "        command_file.write(\"2\\n\"+filename+\"\\n\")\n",
    "    \n",
    "    elif choice is 3:\n",
    "        filename = raw_input(\"Enter the name of the file you want to append:\\n\")\n",
    "        print \"Enter content you want to append to the file and enter nothing to modify: \\n\"\n",
    "        lines = []\n",
    "        while True:\n",
    "            line = raw_input()\n",
    "            if line:\n",
    "                lines.append(line)\n",
    "            else:\n",
    "                break\n",
    "        text = '\\n'.join(lines)\n",
    "        command_file.write(\"3 \"+filename+\" \"+CurrentDateTime()+\"\\n\")\n",
    "        command_file.write(text+\"\\n\")\n",
    "    \n",
    "    elif choice is 4:\n",
    "        filename = raw_input(\"Enter the name of the filename you want to view:\\n\")\n",
    "        command_file.write(\"4 \"+filename+\" \"+CurrentDateTime()+\"\\n\") \n",
    "        \n",
    "    else:\n",
    "        print \"Invalid Option\"\n",
    "        \n",
    "    command_file.close()\n",
    "    readfile()\n",
    "    return 0"
   ]
  },
  {
   "cell_type": "code",
   "execution_count": 52,
   "metadata": {},
   "outputs": [
    {
     "name": "stdout",
     "output_type": "stream",
     "text": [
      "What do you want to do? : \n",
      "1: Create a file\t2: Delete a file\t3: Write to(append) a file\t4: View contents of file\n",
      "4\n",
      "Enter the name of the filename you want to view:\n",
      "cool.txt\n",
      "hdhfhfhf hfhfh\n",
      "jsjsdhsdl\n",
      "sdhjddek'\n",
      "dhekjdbeo\n",
      "\n"
     ]
    }
   ],
   "source": [
    "if __name__ == \"__main__\":\n",
    "    main()"
   ]
  },
  {
   "cell_type": "code",
   "execution_count": null,
   "metadata": {
    "collapsed": true
   },
   "outputs": [],
   "source": []
  }
 ],
 "metadata": {
  "kernelspec": {
   "display_name": "Python 2",
   "language": "python",
   "name": "python2"
  },
  "language_info": {
   "codemirror_mode": {
    "name": "ipython",
    "version": 2
   },
   "file_extension": ".py",
   "mimetype": "text/x-python",
   "name": "python",
   "nbconvert_exporter": "python",
   "pygments_lexer": "ipython2",
   "version": "2.7.12"
  }
 },
 "nbformat": 4,
 "nbformat_minor": 2
}
