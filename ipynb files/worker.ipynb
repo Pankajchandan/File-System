{
 "cells": [
  {
   "cell_type": "code",
   "execution_count": 1,
   "metadata": {
    "collapsed": true
   },
   "outputs": [],
   "source": [
    "import time\n",
    "import os\n",
    "from Tkinter import *"
   ]
  },
  {
   "cell_type": "code",
   "execution_count": 2,
   "metadata": {
    "collapsed": true
   },
   "outputs": [],
   "source": [
    "##method to return current date and time\n",
    "def CurrentDateTime():\n",
    "    return time.strftime(\"%Y-%m-%d.%H:%M:%S\")"
   ]
  },
  {
   "cell_type": "code",
   "execution_count": 3,
   "metadata": {
    "collapsed": true
   },
   "outputs": [],
   "source": [
    "def update_child(child,textline):\n",
    "    msg=Label(child,text=textline)\n",
    "    msg.pack() \n",
    "    child.update()"
   ]
  },
  {
   "cell_type": "code",
   "execution_count": 5,
   "metadata": {
    "collapsed": true
   },
   "outputs": [],
   "source": [
    "##daemon function\n",
    "def readfile(child):\n",
    "    command_file = open(\"Command.txt\", \"r\")\n",
    "    log_file = open(\"log.txt\", \"a+\")\n",
    "    line = command_file.readline().split()\n",
    "    option = line[0]\n",
    "    file1 = line[1]\n",
    "    if option is \"1\":\n",
    "        tf = line[2]\n",
    "        timestamp = line[3]\n",
    "        filename = open(file1,\"w\")\n",
    "        if tf is \"true\":\n",
    "            text = command_file.read()\n",
    "            filename.write(text)\n",
    "            update_child(child,\"File Created and Written into!!\")\n",
    "            filename.close()\n",
    "            log_file.write(\"action: File \"+file1+\" created and contents written at \"+CurrentDateTime()+\"\\n\")\n",
    "        else:\n",
    "            filename.close()\n",
    "            update_child(child,\"file created\")\n",
    "            log_file.write(\"action: File \"+file1+\" created at \"+CurrentDateTime()+\"\\n\")\n",
    "    \n",
    "    elif option is \"2\":\n",
    "        try:\n",
    "            os.remove(file1)\n",
    "            log_file.write(\"action: File \"+file1+\" deleted at \"+CurrentDateTime()+\"\\n\")\n",
    "            update_child(child,\"file removed\")\n",
    "        except OSError as error:\n",
    "            update_child(child,error)\n",
    "            log_file.write(\"action: trying to remove a non existant file at \"+CurrentDateTime()+\"\\n\")\n",
    "            pass\n",
    "        \n",
    "    ##enhance here\n",
    "    elif option is \"3\":\n",
    "        filename = open(file1,\"a+\")\n",
    "        text = command_file.read()\n",
    "        filename.write(text)\n",
    "        update_child(child,\"file modified!!\")\n",
    "        log_file.write(\"action: File \"+file1+\" modified at \"+CurrentDateTime()+\"\\n\")\n",
    "    \n",
    "    elif option is \"4\":\n",
    "        try:\n",
    "            filename = open(file1,\"r\")\n",
    "            update_child(child,filename.read())\n",
    "        except IOError as error:\n",
    "            update_child(child,error)\n",
    "            log_file.write(\"action: trying to view a non existant file at \"+CurrentDateTime()+\"\\n\")\n",
    "            pass\n",
    "                           \n",
    "    elif option is \"5\":\n",
    "        files = [f for f in os.listdir('.') if os.path.isfile(f)]\n",
    "        for f in files:\n",
    "            update_child(child,f)\n",
    "        log_file.write(\"action: file names viewed at \"+ CurrentDateTime()+\"\\n\")\n",
    "    else:\n",
    "        update_child(child,\"What the hell happened!!\")  "
   ]
  },
  {
   "cell_type": "code",
   "execution_count": null,
   "metadata": {
    "collapsed": true
   },
   "outputs": [],
   "source": []
  }
 ],
 "metadata": {
  "kernelspec": {
   "display_name": "Python 2",
   "language": "python",
   "name": "python2"
  },
  "language_info": {
   "codemirror_mode": {
    "name": "ipython",
    "version": 2
   },
   "file_extension": ".py",
   "mimetype": "text/x-python",
   "name": "python",
   "nbconvert_exporter": "python",
   "pygments_lexer": "ipython2",
   "version": "2.7.12"
  }
 },
 "nbformat": 4,
 "nbformat_minor": 2
}
