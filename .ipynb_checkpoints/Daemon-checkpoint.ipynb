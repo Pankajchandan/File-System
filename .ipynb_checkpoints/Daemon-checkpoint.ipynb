{
 "cells": [
  {
   "cell_type": "code",
   "execution_count": 32,
   "metadata": {
    "collapsed": true
   },
   "outputs": [],
   "source": [
    "import time\n",
    "import os"
   ]
  },
  {
   "cell_type": "code",
   "execution_count": 33,
   "metadata": {
    "collapsed": true
   },
   "outputs": [],
   "source": [
    "##method to return current date and time\n",
    "def CurrentDateTime():\n",
    "    return time.strftime(\"%Y-%m-%d.%H:%M:%S\")"
   ]
  },
  {
   "cell_type": "code",
   "execution_count": 43,
   "metadata": {
    "collapsed": true
   },
   "outputs": [],
   "source": [
    "##daemon function\n",
    "def readfile():\n",
    "    command_file = open(\"Command.txt\", \"r\")\n",
    "    line = command_file.readline().split()\n",
    "    option = line[0]\n",
    "    file1 = line[1]\n",
    "    if option is \"1\":\n",
    "        tf = line[2]\n",
    "        timestamp = line[3]\n",
    "        filename = open(file1,\"w\")\n",
    "        if tf is \"true\":\n",
    "            text = command_file.read()\n",
    "            filename.write(text)\n",
    "            print \"File Created and Written into!!\"\n",
    "            filename.close()\n",
    "        else:\n",
    "            filename.close()\n",
    "    \n",
    "    elif option is \"2\":\n",
    "        os.remove(file1)\n",
    "        \n",
    "    elif option is \"3\":\n",
    "        filename = open(file1,\"a+\")\n",
    "        text = command_file.read()\n",
    "        filename.write(text)\n",
    "        print \"file modified!!\"\n",
    "    \n",
    "    elif choice is \"4\":\n",
    "        filename = open(file1,\"r\")\n",
    "        print filename.read()\n",
    "    else:\n",
    "        print \"What the hell happened!!\"  "
   ]
  },
  {
   "cell_type": "code",
   "execution_count": 48,
   "metadata": {},
   "outputs": [],
   "source": [
    "##main method for user interaction\n",
    "def main():\n",
    "    print \"What do you want to do? : \"\n",
    "    choice = input (\"1: Create a file\\t2: Delete a file\\t3: Write to(append) a file\\t4: View contents of file\\n\")\n",
    "    command_file = open(\"Command.txt\", \"w+\")\n",
    "    \n",
    "    if choice is 1:\n",
    "        filename = raw_input(\"Enter the name of the file you want to create:\\n\")\n",
    "        write = input(\"Enter 1 for creating and writing to the file, 0 for just creating the file: \")\n",
    "        if write is 1:\n",
    "            command_file.write(\"1 \"+filename+\" true \"+CurrentDateTime()+\"\\n\")\n",
    "            print \"Enter what you want to write to the file and enter nothing to write:\\n\"\n",
    "            lines = []\n",
    "            while True:\n",
    "                line = raw_input()\n",
    "                if line:\n",
    "                    lines.append(line)\n",
    "                else:\n",
    "                    break\n",
    "            text = '\\n'.join(lines)\n",
    "            command_file.write(text+\"\\n\")\n",
    "        else:\n",
    "            command_file.write(\"1 \"+filename+\" false \"+CurrentDateTime()+\"\\n\")\n",
    "            \n",
    "    elif choice is 2:\n",
    "        filename = raw_input(\"Enter the name of the file you want to delete:\\n\")\n",
    "        command_file.write(\"2\\n\"+filename+\"\\n\")\n",
    "    \n",
    "    elif choice is 3:\n",
    "        filename = raw_input(\"Enter the name of the file you want to append:\\n\")\n",
    "        print \"Enter content you want to append to the file and enter nothing to modify: \\n\"\n",
    "        lines = []\n",
    "        while True:\n",
    "            line = raw_input()\n",
    "            if line:\n",
    "                lines.append(line)\n",
    "            else:\n",
    "                break\n",
    "        text = '\\n'.join(lines)\n",
    "        command_file.write(\"3 \"+filename+\" \"+CurrentDateTime()+\"\\n\")\n",
    "        command_file.write(text+\"\\n\")\n",
    "    \n",
    "    elif choice is 4:\n",
    "        filename = raw_input(\"Enter the name of the filename you want to view:\\n\")\n",
    "        command_file.write(\"4 \"+filename+\" \"+CurrentDateTime()+\"\\n\") \n",
    "        \n",
    "    else:\n",
    "        print \"Invalid Option\"\n",
    "        \n",
    "    command_file.close()\n",
    "    readfile()\n",
    "    return 0"
   ]
  },
  {
   "cell_type": "code",
   "execution_count": 47,
   "metadata": {},
   "outputs": [
    {
     "name": "stdout",
     "output_type": "stream",
     "text": [
      "What do you want to do? : \n",
      "1: Create a file\t2: Delete a file\t3: Write to(append) a file\t4: View contents of file\n",
      "4\n"
     ]
    },
    {
     "ename": "UnboundLocalError",
     "evalue": "local variable 'filename' referenced before assignment",
     "output_type": "error",
     "traceback": [
      "\u001b[0;31m---------------------------------------------------------------------------\u001b[0m",
      "\u001b[0;31mUnboundLocalError\u001b[0m                         Traceback (most recent call last)",
      "\u001b[0;32m<ipython-input-47-89026442c8a6>\u001b[0m in \u001b[0;36m<module>\u001b[0;34m()\u001b[0m\n\u001b[1;32m      1\u001b[0m \u001b[0;32mif\u001b[0m \u001b[0m__name__\u001b[0m \u001b[0;34m==\u001b[0m \u001b[0;34m\"__main__\"\u001b[0m\u001b[0;34m:\u001b[0m\u001b[0;34m\u001b[0m\u001b[0m\n\u001b[0;32m----> 2\u001b[0;31m     \u001b[0mmain\u001b[0m\u001b[0;34m(\u001b[0m\u001b[0;34m)\u001b[0m\u001b[0;34m\u001b[0m\u001b[0m\n\u001b[0m",
      "\u001b[0;32m<ipython-input-46-4338bd2e223a>\u001b[0m in \u001b[0;36mmain\u001b[0;34m()\u001b[0m\n\u001b[1;32m     42\u001b[0m \u001b[0;34m\u001b[0m\u001b[0m\n\u001b[1;32m     43\u001b[0m     \u001b[0;32melif\u001b[0m \u001b[0mchoice\u001b[0m \u001b[0;32mis\u001b[0m \u001b[0;36m4\u001b[0m\u001b[0;34m:\u001b[0m\u001b[0;34m\u001b[0m\u001b[0m\n\u001b[0;32m---> 44\u001b[0;31m         \u001b[0mcommand_file\u001b[0m\u001b[0;34m.\u001b[0m\u001b[0mwrite\u001b[0m\u001b[0;34m(\u001b[0m\u001b[0;34m\"4 \"\u001b[0m\u001b[0;34m+\u001b[0m\u001b[0mfilename\u001b[0m\u001b[0;34m+\u001b[0m\u001b[0;34m\" \"\u001b[0m\u001b[0;34m+\u001b[0m\u001b[0mCurrentDateTime\u001b[0m\u001b[0;34m(\u001b[0m\u001b[0;34m)\u001b[0m\u001b[0;34m+\u001b[0m\u001b[0;34m\"\\n\"\u001b[0m\u001b[0;34m)\u001b[0m\u001b[0;34m\u001b[0m\u001b[0m\n\u001b[0m\u001b[1;32m     45\u001b[0m \u001b[0;34m\u001b[0m\u001b[0m\n\u001b[1;32m     46\u001b[0m     \u001b[0;32melse\u001b[0m\u001b[0;34m:\u001b[0m\u001b[0;34m\u001b[0m\u001b[0m\n",
      "\u001b[0;31mUnboundLocalError\u001b[0m: local variable 'filename' referenced before assignment"
     ]
    }
   ],
   "source": [
    "if __name__ == \"__main__\":\n",
    "    main()"
   ]
  },
  {
   "cell_type": "code",
   "execution_count": null,
   "metadata": {
    "collapsed": true
   },
   "outputs": [],
   "source": []
  }
 ],
 "metadata": {
  "kernelspec": {
   "display_name": "Python 2",
   "language": "python",
   "name": "python2"
  },
  "language_info": {
   "codemirror_mode": {
    "name": "ipython",
    "version": 2
   },
   "file_extension": ".py",
   "mimetype": "text/x-python",
   "name": "python",
   "nbconvert_exporter": "python",
   "pygments_lexer": "ipython2",
   "version": "2.7.12"
  }
 },
 "nbformat": 4,
 "nbformat_minor": 2
}
