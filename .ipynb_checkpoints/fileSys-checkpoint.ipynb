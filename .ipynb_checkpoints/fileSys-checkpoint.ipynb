{
 "cells": [
  {
   "cell_type": "code",
   "execution_count": 8,
   "metadata": {
    "collapsed": true
   },
   "outputs": [],
   "source": [
    "import time\n",
    "import os\n",
    "from worker import readfile\n",
    "from threading import Thread\n",
    "from Tkinter import *"
   ]
  },
  {
   "cell_type": "code",
   "execution_count": 9,
   "metadata": {
    "collapsed": true
   },
   "outputs": [],
   "source": [
    "##method to return current date and time\n",
    "def CurrentDateTime():\n",
    "    return time.strftime(\"%Y-%m-%d.%H:%M:%S\")"
   ]
  },
  {
   "cell_type": "code",
   "execution_count": 10,
   "metadata": {
    "collapsed": true
   },
   "outputs": [],
   "source": [
    "def return_fake(w):\n",
    "    global global_var\n",
    "    global_var=True\n",
    "    return 1"
   ]
  },
  {
   "cell_type": "code",
   "execution_count": 11,
   "metadata": {
    "collapsed": true
   },
   "outputs": [],
   "source": [
    "def update_child_with_return(child,textline):\n",
    "    global global_var\n",
    "    msg=Label(child,text=textline)\n",
    "    msg.pack()\n",
    "    choiceValue = StringVar()# defines the widget state as string\n",
    "    #w = Entry(child,textvariable=choiceValue) # adds a textarea widget\n",
    "    w = Entry(child)\n",
    "    w.pack()\n",
    "    but = Button(child, text=\"Go!\", command=lambda:return_fake(w))\n",
    "    but.pack()   \n",
    "    child.update()\n",
    "    \n",
    "    while global_var is False:\n",
    "        time.sleep(0.00001)\n",
    "    \n",
    "    global_var=False\n",
    "    return w.get()"
   ]
  },
  {
   "cell_type": "code",
   "execution_count": 12,
   "metadata": {
    "collapsed": true
   },
   "outputs": [],
   "source": [
    "##main method for user interaction\n",
    "def task(choice,child):\n",
    "    \n",
    "    time.sleep(0.05)\n",
    "    choice = int(choice) #change into int\n",
    "    command_file = open(\"Command.txt\", \"w+\")\n",
    "    if choice is 1:\n",
    "        filename = update_child_with_return(child,\"Enter the name of the file you want to create: \")\n",
    "        write = update_child_with_return(child,\"Enter '1' for creating and writing to the file or '0' for\"\n",
    "                                         \"just creating the file: \")\n",
    "        write = int(write)\n",
    "        \n",
    "        if write is 1:\n",
    "            command_file.write(\"1 \"+filename+\" true \"+CurrentDateTime()+\"\\n\")\n",
    "            print \"Enter what you want to write to the file and enter nothing to write:\\n\"\n",
    "            lines = []\n",
    "            while True:\n",
    "                line = raw_input()\n",
    "                if line:\n",
    "                    lines.append(line)\n",
    "                else:\n",
    "                    break\n",
    "            text = '\\n'.join(lines)\n",
    "            command_file.write(text+\"\\n\")\n",
    "        else:\n",
    "            command_file.write(\"1 \"+filename+\" false \"+CurrentDateTime()+\"\\n\")\n",
    "            \n",
    "    elif choice is 2:\n",
    "        filename = update_child_with_return(child,\"Enter the name of the file you want to delete: \")\n",
    "        command_file.write(\"2 \"+filename+\"\\n\")\n",
    "    \n",
    "    elif choice is 3:\n",
    "        filename = update_child_with_return(child,\"Enter the name of the file you want to append: \")\n",
    "        print \"Enter content you want to append to the file and enter nothing to modify: \\n\"\n",
    "        lines = []\n",
    "        while True:\n",
    "            line = raw_input()\n",
    "            if line:\n",
    "                lines.append(line)\n",
    "            else:\n",
    "                break\n",
    "        text = '\\n'.join(lines)\n",
    "        command_file.write(\"3 \"+filename+\" \"+CurrentDateTime()+\"\\n\")\n",
    "        command_file.write(text+\"\\n\")\n",
    "    \n",
    "    elif choice is 4:\n",
    "        filename = update_child_with_return(child,\"Enter the name of the filename you want to view: \")\n",
    "        command_file.write(\"4 \"+filename+\" \"+CurrentDateTime()+\"\\n\")\n",
    "    \n",
    "    elif choice is 5:\n",
    "        command_file.write(\"5 \"+CurrentDateTime()+\"\\n\")\n",
    "        \n",
    "    else:\n",
    "        print \"Invalid Option\"\n",
    "        \n",
    "    command_file.close()\n",
    "    readfile(child)\n",
    "    return 0"
   ]
  },
  {
   "cell_type": "code",
   "execution_count": 13,
   "metadata": {
    "collapsed": true
   },
   "outputs": [],
   "source": [
    "def act():\n",
    "    child = Tk(className =\"child Window\")\n",
    "    thread_task = Thread(target = task, args = (choiceValue.get(),child))\n",
    "    thread_task.start()\n",
    "    child.mainloop() ##statrt child mainloop"
   ]
  },
  {
   "cell_type": "code",
   "execution_count": 14,
   "metadata": {},
   "outputs": [],
   "source": [
    "global_var = False\n",
    "root = Tk(className =\"Main Window\") #add a root window named Myfirst GUI\n",
    "foo = Label(root,text=\"****************************************************\\n\"\n",
    "            \"********WELCOME TO THE FILE SYSTEM************\\n\"\n",
    "           \"****************************************************\") # add a label to root window\n",
    "foo.pack()\n",
    "msg = Label(root,text=\"1: Create a file\\n2: Delete a file\\n3: Write to(append) a file\\n\"\n",
    "                             \"4: View contents of file\\n5: view all file names\\n\\n\\n\"\n",
    "                             \"Enter your Choice: \")\n",
    "msg.pack()\n",
    "choiceValue = StringVar() # defines the widget state as string\n",
    "w = Entry(root,textvariable=choiceValue) # adds a textarea widget\n",
    "w.pack()\n",
    "but = Button(root,text=\"Go!\", command=act)\n",
    "but.pack()   \n",
    "root.mainloop()"
   ]
  },
  {
   "cell_type": "code",
   "execution_count": null,
   "metadata": {
    "collapsed": true
   },
   "outputs": [],
   "source": []
  }
 ],
 "metadata": {
  "kernelspec": {
   "display_name": "Python 2",
   "language": "python",
   "name": "python2"
  },
  "language_info": {
   "codemirror_mode": {
    "name": "ipython",
    "version": 2
   },
   "file_extension": ".py",
   "mimetype": "text/x-python",
   "name": "python",
   "nbconvert_exporter": "python",
   "pygments_lexer": "ipython2",
   "version": "2.7.12"
  }
 },
 "nbformat": 4,
 "nbformat_minor": 2
}
